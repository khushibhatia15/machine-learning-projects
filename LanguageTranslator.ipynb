{
  "nbformat": 4,
  "nbformat_minor": 0,
  "metadata": {
    "colab": {
      "provenance": [],
      "authorship_tag": "ABX9TyOmzj6fUvHgbceIhAEGVTVy",
      "include_colab_link": true
    },
    "kernelspec": {
      "name": "python3",
      "display_name": "Python 3"
    },
    "language_info": {
      "name": "python"
    }
  },
  "cells": [
    {
      "cell_type": "markdown",
      "metadata": {
        "id": "view-in-github",
        "colab_type": "text"
      },
      "source": [
        "<a href=\"https://colab.research.google.com/github/khushibhatia15/machine-learning-projects/blob/Language-Translator-using-python/LanguageTranslator.ipynb\" target=\"_parent\"><img src=\"https://colab.research.google.com/assets/colab-badge.svg\" alt=\"Open In Colab\"/></a>"
      ]
    },
    {
      "cell_type": "code",
      "source": [
        "!pip install googletrans==4.0.0-rc1\n"
      ],
      "metadata": {
        "colab": {
          "base_uri": "https://localhost:8080/"
        },
        "id": "WA-a5pB2Apmq",
        "outputId": "987c1647-dad4-4515-91a7-63874e9f17b4"
      },
      "execution_count": 1,
      "outputs": [
        {
          "output_type": "stream",
          "name": "stdout",
          "text": [
            "Requirement already satisfied: googletrans==4.0.0-rc1 in /usr/local/lib/python3.10/dist-packages (4.0.0rc1)\n",
            "Requirement already satisfied: httpx==0.13.3 in /usr/local/lib/python3.10/dist-packages (from googletrans==4.0.0-rc1) (0.13.3)\n",
            "Requirement already satisfied: certifi in /usr/local/lib/python3.10/dist-packages (from httpx==0.13.3->googletrans==4.0.0-rc1) (2024.6.2)\n",
            "Requirement already satisfied: hstspreload in /usr/local/lib/python3.10/dist-packages (from httpx==0.13.3->googletrans==4.0.0-rc1) (2024.6.1)\n",
            "Requirement already satisfied: sniffio in /usr/local/lib/python3.10/dist-packages (from httpx==0.13.3->googletrans==4.0.0-rc1) (1.3.1)\n",
            "Requirement already satisfied: chardet==3.* in /usr/local/lib/python3.10/dist-packages (from httpx==0.13.3->googletrans==4.0.0-rc1) (3.0.4)\n",
            "Requirement already satisfied: idna==2.* in /usr/local/lib/python3.10/dist-packages (from httpx==0.13.3->googletrans==4.0.0-rc1) (2.10)\n",
            "Requirement already satisfied: rfc3986<2,>=1.3 in /usr/local/lib/python3.10/dist-packages (from httpx==0.13.3->googletrans==4.0.0-rc1) (1.5.0)\n",
            "Requirement already satisfied: httpcore==0.9.* in /usr/local/lib/python3.10/dist-packages (from httpx==0.13.3->googletrans==4.0.0-rc1) (0.9.1)\n",
            "Requirement already satisfied: h11<0.10,>=0.8 in /usr/local/lib/python3.10/dist-packages (from httpcore==0.9.*->httpx==0.13.3->googletrans==4.0.0-rc1) (0.9.0)\n",
            "Requirement already satisfied: h2==3.* in /usr/local/lib/python3.10/dist-packages (from httpcore==0.9.*->httpx==0.13.3->googletrans==4.0.0-rc1) (3.2.0)\n",
            "Requirement already satisfied: hyperframe<6,>=5.2.0 in /usr/local/lib/python3.10/dist-packages (from h2==3.*->httpcore==0.9.*->httpx==0.13.3->googletrans==4.0.0-rc1) (5.2.0)\n",
            "Requirement already satisfied: hpack<4,>=3.0 in /usr/local/lib/python3.10/dist-packages (from h2==3.*->httpcore==0.9.*->httpx==0.13.3->googletrans==4.0.0-rc1) (3.0.0)\n"
          ]
        }
      ]
    },
    {
      "cell_type": "code",
      "source": [
        "\n",
        "import googletrans\n",
        "\n",
        "\n",
        "print(googletrans.LANGUAGES)\n"
      ],
      "metadata": {
        "colab": {
          "base_uri": "https://localhost:8080/"
        },
        "id": "TpN_QElCMtcP",
        "outputId": "e543a957-6215-4e69-ae8e-8532c24c0ff9"
      },
      "execution_count": 9,
      "outputs": [
        {
          "output_type": "stream",
          "name": "stdout",
          "text": [
            "{'af': 'afrikaans', 'sq': 'albanian', 'am': 'amharic', 'ar': 'arabic', 'hy': 'armenian', 'az': 'azerbaijani', 'eu': 'basque', 'be': 'belarusian', 'bn': 'bengali', 'bs': 'bosnian', 'bg': 'bulgarian', 'ca': 'catalan', 'ceb': 'cebuano', 'ny': 'chichewa', 'zh-cn': 'chinese (simplified)', 'zh-tw': 'chinese (traditional)', 'co': 'corsican', 'hr': 'croatian', 'cs': 'czech', 'da': 'danish', 'nl': 'dutch', 'en': 'english', 'eo': 'esperanto', 'et': 'estonian', 'tl': 'filipino', 'fi': 'finnish', 'fr': 'french', 'fy': 'frisian', 'gl': 'galician', 'ka': 'georgian', 'de': 'german', 'el': 'greek', 'gu': 'gujarati', 'ht': 'haitian creole', 'ha': 'hausa', 'haw': 'hawaiian', 'iw': 'hebrew', 'he': 'hebrew', 'hi': 'hindi', 'hmn': 'hmong', 'hu': 'hungarian', 'is': 'icelandic', 'ig': 'igbo', 'id': 'indonesian', 'ga': 'irish', 'it': 'italian', 'ja': 'japanese', 'jw': 'javanese', 'kn': 'kannada', 'kk': 'kazakh', 'km': 'khmer', 'ko': 'korean', 'ku': 'kurdish (kurmanji)', 'ky': 'kyrgyz', 'lo': 'lao', 'la': 'latin', 'lv': 'latvian', 'lt': 'lithuanian', 'lb': 'luxembourgish', 'mk': 'macedonian', 'mg': 'malagasy', 'ms': 'malay', 'ml': 'malayalam', 'mt': 'maltese', 'mi': 'maori', 'mr': 'marathi', 'mn': 'mongolian', 'my': 'myanmar (burmese)', 'ne': 'nepali', 'no': 'norwegian', 'or': 'odia', 'ps': 'pashto', 'fa': 'persian', 'pl': 'polish', 'pt': 'portuguese', 'pa': 'punjabi', 'ro': 'romanian', 'ru': 'russian', 'sm': 'samoan', 'gd': 'scots gaelic', 'sr': 'serbian', 'st': 'sesotho', 'sn': 'shona', 'sd': 'sindhi', 'si': 'sinhala', 'sk': 'slovak', 'sl': 'slovenian', 'so': 'somali', 'es': 'spanish', 'su': 'sundanese', 'sw': 'swahili', 'sv': 'swedish', 'tg': 'tajik', 'ta': 'tamil', 'te': 'telugu', 'th': 'thai', 'tr': 'turkish', 'uk': 'ukrainian', 'ur': 'urdu', 'ug': 'uyghur', 'uz': 'uzbek', 'vi': 'vietnamese', 'cy': 'welsh', 'xh': 'xhosa', 'yi': 'yiddish', 'yo': 'yoruba', 'zu': 'zulu'}\n"
          ]
        }
      ]
    },
    {
      "cell_type": "code",
      "source": [
        "from googletrans import Translator\n",
        "import pandas as pd\n",
        "\n",
        "def translate_text(text, src_lang, dest_lang):\n",
        "    # Initialize the Translator\n",
        "    translator = Translator()\n",
        "\n",
        "    # Translate the text\n",
        "    translation = translator.translate(text, src=src_lang, dest=dest_lang)\n",
        "\n",
        "    return translation.text\n",
        "\n",
        "def main():\n",
        "    # Initialize a list to store translation records\n",
        "    records = []\n",
        "\n",
        "    while True:\n",
        "        # Example text to be translated\n",
        "        text = input(\"Enter the text to translate (or type 'exit' to quit): \")\n",
        "        if text.lower() == 'exit':\n",
        "            break\n",
        "        src_lang = input(\"Enter the source language (e.g., 'en' for English): \")\n",
        "        dest_lang = input(\"Enter the destination language (e.g., 'es' for Spanish): \")\n",
        "\n",
        "        # Translate the text\n",
        "        translated_text = translate_text(text, src_lang, dest_lang)\n",
        "\n",
        "        # Display the translated text\n",
        "        print(f\"Translated text: {translated_text}\")\n",
        "\n",
        "        # Append the record to the list\n",
        "        records.append([text, src_lang, dest_lang, translated_text])\n",
        "\n",
        "    # Create a DataFrame from the records\n",
        "    df = pd.DataFrame(records, columns=['Text', 'Source Language', 'Destination Language', 'Translated Text'])\n",
        "\n",
        "    # Save the DataFrame to a CSV file\n",
        "    df.to_csv('translations.csv', index=False)\n",
        "    print(\"Translations have been saved to translations.csv\")\n",
        "\n",
        "if __name__ == \"__main__\":\n",
        "    main()\n",
        "\n"
      ],
      "metadata": {
        "colab": {
          "base_uri": "https://localhost:8080/"
        },
        "id": "nlT_1EJ3Cy8S",
        "outputId": "4b107ed1-7602-4ab3-8ccd-e138565af176"
      },
      "execution_count": 8,
      "outputs": [
        {
          "output_type": "stream",
          "name": "stdout",
          "text": [
            "Enter the text to translate (or type 'exit' to quit): hello\n",
            "Enter the source language (e.g., 'en' for English): en\n",
            "Enter the destination language (e.g., 'es' for Spanish): ko\n",
            "Translated text: 안녕하세요\n",
            "Enter the text to translate (or type 'exit' to quit): my name is shreya khadka\n",
            "Enter the source language (e.g., 'en' for English): en\n",
            "Enter the destination language (e.g., 'es' for Spanish): hi\n",
            "Translated text: मेरा नाम श्रेया खडका है\n",
            "Enter the text to translate (or type 'exit' to quit): this is my in-house summer training project\n",
            "Enter the source language (e.g., 'en' for English): en\n",
            "Enter the destination language (e.g., 'es' for Spanish): es\n",
            "Translated text: Este es mi proyecto interno de entrenamiento de verano\n",
            "Enter the text to translate (or type 'exit' to quit): this project is a language translator\n",
            "Enter the source language (e.g., 'en' for English): en\n",
            "Enter the destination language (e.g., 'es' for Spanish): ur\n",
            "Translated text: یہ پروجیکٹ ایک زبان مترجم ہے\n",
            "Enter the text to translate (or type 'exit' to quit): i am using as many languages as possible\n",
            "Enter the source language (e.g., 'en' for English): en\n",
            "Enter the destination language (e.g., 'es' for Spanish): ps\n",
            "Translated text: زه د امکان تر حده ډیری ژبې کاروم\n",
            "Enter the text to translate (or type 'exit' to quit): good morning\n",
            "Enter the source language (e.g., 'en' for English): en\n",
            "Enter the destination language (e.g., 'es' for Spanish): zh-cn\n",
            "Translated text: 早上好\n",
            "Enter the text to translate (or type 'exit' to quit): good night\n",
            "Enter the source language (e.g., 'en' for English): en\n",
            "Enter the destination language (e.g., 'es' for Spanish): it\n",
            "Translated text: Buona notte\n",
            "Enter the text to translate (or type 'exit' to quit): i am eating\n",
            "Enter the source language (e.g., 'en' for English): en\n",
            "Enter the destination language (e.g., 'es' for Spanish): bn\n",
            "Translated text: আমি খাচ্ছি\n",
            "Enter the text to translate (or type 'exit' to quit): i am sleeping\n",
            "Enter the source language (e.g., 'en' for English): en\n",
            "Enter the destination language (e.g., 'es' for Spanish): vi\n",
            "Translated text: tôi đang ngủ\n",
            "Enter the text to translate (or type 'exit' to quit): i am a computer science student\n",
            "Enter the source language (e.g., 'en' for English): en\n",
            "Enter the destination language (e.g., 'es' for Spanish): fr\n",
            "Translated text: Je suis étudiant en informatique\n",
            "Enter the text to translate (or type 'exit' to quit): i am in 4th year\n",
            "Enter the source language (e.g., 'en' for English): en\n",
            "Enter the destination language (e.g., 'es' for Spanish): hr\n",
            "Translated text: Ja sam u 4. godini\n",
            "Enter the text to translate (or type 'exit' to quit): exit\n",
            "Translations have been saved to translations.csv\n"
          ]
        }
      ]
    }
  ]
}